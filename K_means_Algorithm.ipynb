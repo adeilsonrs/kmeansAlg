{
  "nbformat": 4,
  "nbformat_minor": 0,
  "metadata": {
    "colab": {
      "provenance": [],
      "authorship_tag": "ABX9TyPvZJ29LqRw+q2FKJey1GT+",
      "include_colab_link": true
    },
    "kernelspec": {
      "name": "python3",
      "display_name": "Python 3"
    },
    "language_info": {
      "name": "python"
    }
  },
  "cells": [
    {
      "cell_type": "markdown",
      "metadata": {
        "id": "view-in-github",
        "colab_type": "text"
      },
      "source": [
        "<a href=\"https://colab.research.google.com/github/adeilsonrs/kmeansAlg/blob/main/K_means_Algorithm.ipynb\" target=\"_parent\"><img src=\"https://colab.research.google.com/assets/colab-badge.svg\" alt=\"Open In Colab\"/></a>"
      ]
    },
    {
      "cell_type": "code",
      "source": [],
      "metadata": {
        "id": "ZrjkdHDTHLOx"
      },
      "execution_count": null,
      "outputs": []
    },
    {
      "cell_type": "markdown",
      "source": [
        "### Para celebrar o crescimento de uma empresa de dados, a presidente quer organizar vários encontros para os usuários. Com base nos dados, ela gostaria que você descobrisse quais seriam os melhores pontos de encontro para que todos comparecessem."
      ],
      "metadata": {
        "id": "Y4X6AAm9fKbP"
      }
    },
    {
      "cell_type": "code",
      "source": [
        "import matplotlib.pyplot as plt"
      ],
      "metadata": {
        "id": "2ayyniYbHyWy"
      },
      "execution_count": null,
      "outputs": []
    },
    {
      "cell_type": "code",
      "source": [
        "#Coordenadas manuais dos pontos\n",
        "enderecos = [(5, 10), (6, 13), (7, 9), (8, 13), (9, 10), (9, 11),\n",
        " (7, 11), (5, 12), (20, 15), (22, 14), (21, 13), (23, 16),\n",
        "  (30, 5), (32, 4), (33, 6), (34, 5), (35, 7)]\n",
        "\n",
        "#Plotagem dos endereços\n",
        "plt.scatter(x, y, c='red', s=20)\n",
        "\n",
        "#Títulos\n",
        "plt.xlabel('Eixo X')\n",
        "plt.ylabel('Eixo Y')\n",
        "plt.title('Endereço dos clientes')\n",
        "\n",
        "plt.show()\n"
      ],
      "metadata": {
        "id": "VswFL1XXalpS"
      },
      "execution_count": null,
      "outputs": []
    },
    {
      "cell_type": "code",
      "source": [
        "import numpy as np\n",
        "from sklearn.cluster import KMeans\n",
        "\n",
        "#Coordenadas dos endereços\n",
        "pontos = [(5, 10), (6, 13), (7, 9), (8, 13), (9, 10), (9, 11),\n",
        " (7, 11), (5, 12), (20, 15), (22, 14), (21, 13), (23, 16),\n",
        "  (30, 5), (32, 4), (33, 6), (34, 5), (35, 7)]\n",
        "\n",
        "\n",
        "#Convertemos os pontos para um array NumPy\n",
        "pontos = np.array(pontos)\n",
        "\n",
        "#Aplicamos o algoritmo K-Means com 3 clusters\n",
        "kmeans = KMeans(n_clusters=3, random_state=0)\n",
        "labels = kmeans.fit_predict(pontos)\n",
        "\n",
        "#Coordenadas dos centroides dos clusters\n",
        "centroides = kmeans.cluster_centers_\n",
        "\n",
        "#Extrair coordenadas x e y dos pontos e dos centroides\n",
        "x, y = pontos[:, 0], pontos[:, 1]\n",
        "centroides_x, centroides_y = centroides[:, 0], centroides[:, 1]\n",
        "\n",
        "#Plotagem dos pontos e dos centroides\n",
        "plt.scatter(x, y, c=labels, s=20, cmap='viridis')\n",
        "plt.scatter(centroides_x, centroides_y, c='blue', marker='s', s=100, label='Centroides')\n",
        "\n",
        "#Rótulos e título do gráfico\n",
        "plt.xlabel('Eixo X')\n",
        "plt.ylabel('Eixo Y')\n",
        "plt.title('Local dos eventos')\n",
        "\n",
        "# Mostrar a legenda\n",
        "plt.legend()\n",
        "\n",
        "# Exiba o gráfico\n",
        "plt.show()\n"
      ],
      "metadata": {
        "id": "nypd50LGZ4it"
      },
      "execution_count": null,
      "outputs": []
    }
  ]
}